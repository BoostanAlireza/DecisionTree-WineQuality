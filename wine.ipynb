{
 "cells": [
  {
   "cell_type": "code",
   "execution_count": 2,
   "id": "81e465ea-b890-4db0-a94a-f0afad0c0f6e",
   "metadata": {},
   "outputs": [],
   "source": [
    "#Import required packages\n",
    "import numpy as np\n",
    "import pandas as pd\n",
    "from sklearn.metrics import confusion_matrix, accuracy_score, classification_report\n",
    "from sklearn.model_selection import train_test_split\n",
    "from sklearn.tree import DecisionTreeClassifier\n",
    "from sklearn.tree import plot_tree\n",
    "import matplotlib.pyplot as plt"
   ]
  },
  {
   "cell_type": "code",
   "execution_count": 3,
   "id": "3229d844-a16d-480e-a145-59204bca6188",
   "metadata": {},
   "outputs": [],
   "source": [
    "#Function to import dataset\n",
    "def import_data():\n",
    "    wine_data = pd.read_csv('winequality-red.csv', sep=';', header=0)\n",
    "    print('Dataset Length:', len(wine_data))\n",
    "    print('Dataset Shape:', wine_data.shape)\n",
    "    print('Dataset:', wine_data.head())\n",
    "\n",
    "    return wine_data"
   ]
  },
  {
   "cell_type": "code",
   "execution_count": 4,
   "id": "8d01b75d-c240-40af-b66d-57db20bffe12",
   "metadata": {},
   "outputs": [],
   "source": [
    "# Function to split the dataset into features and target variables\n",
    "def split_dataset(wine_data):\n",
    "    #Separate target variable\n",
    "    x = wine_data.values[:, :-1]\n",
    "    y = wine_data.values[:, -1]\n",
    "\n",
    "    # Split the dataset into train and test\n",
    "    x_train, x_test, y_train, y_test = train_test_split(x, y, test_size=0.3, random_state=100)\n",
    "\n",
    "    return x, y, x_train, x_test, y_train, y_test"
   ]
  },
  {
   "cell_type": "code",
   "execution_count": 5,
   "id": "ed618548-6d2b-4583-8ed5-6f04e1e09971",
   "metadata": {},
   "outputs": [],
   "source": [
    "def train_decision_tree(x_train, y_train, criterion='gini'):\n",
    "    return DecisionTreeClassifier(\n",
    "        criterion=criterion,\n",
    "        random_state=100,\n",
    "        min_samples_leaf=5,\n",
    "        class_weight='balanced'\n",
    "    ).fit(x_train, y_train)"
   ]
  },
  {
   "cell_type": "code",
   "execution_count": 6,
   "id": "959ab8d3-979e-4d8a-a77e-02488e276f31",
   "metadata": {},
   "outputs": [],
   "source": [
    "#Function to make predictions\n",
    "def prediction(x_test, clf_object):\n",
    "    y_pred = clf_object.predict(x_test)\n",
    "    print('Predicted values:')\n",
    "    print(y_pred)\n",
    "    \n",
    "    return y_pred\n",
    "\n",
    "#Placeholder function for calculate_accuracy\n",
    "def calculate_accuracy(y_test, y_pred):\n",
    "    print('Confusion Matrix:', confusion_matrix(y_test, y_pred))\n",
    "    print('Accuracy:', accuracy_score(y_test, y_pred) * 100)\n",
    "    print('Report:', classification_report(y_test, y_pred))"
   ]
  },
  {
   "cell_type": "code",
   "execution_count": 7,
   "id": "8631b3bc-72fa-44a6-ab1f-6dbb62cdbe84",
   "metadata": {},
   "outputs": [],
   "source": [
    "#Function to plot the decision tree\n",
    "def plot_decision_tree(clf_object, feature_names, class_names):\n",
    "    plt.figure(figsize=(20, 10))\n",
    "    plot_tree(clf_object, filled=True, feature_names=feature_names, class_names=class_names, rounded=True)\n",
    "    plt.show()"
   ]
  },
  {
   "cell_type": "code",
   "execution_count": null,
   "id": "d2486ee9-db33-4c76-a88d-ec9092544f10",
   "metadata": {},
   "outputs": [],
   "source": [
    "if __name__ == \"__main__\":\n",
    "    data = import_data()\n",
    "    x, y, x_train, x_test, y_train, y_test = split_dataset(data)\n",
    "    clf_gini = train_decision_tree(x_train, y_train)\n",
    "    print(x_train.shape)  # This should print (num_samples, num_features)\n",
    "    feature_names = list(data.columns[:-1]) #Dynamically extract feature names\n",
    "    class_names = list(map(str, np.unique(y_train))) #Dynamically extract feature names\n",
    "    \n",
    "    #Visualize the decision tree\n",
    "    plot_decision_tree(clf_gini, feature_names, class_names)\n",
    "   \n",
    "    # Operational phase\n",
    "    print('Results using gini index')\n",
    "    y_pred_gini = prediction(x_test, clf_gini)\n",
    "    calculate_accuracy(y_test, y_pred_gini)"
   ]
  }
 ],
 "metadata": {
  "kernelspec": {
   "display_name": "Python 3 (ipykernel)",
   "language": "python",
   "name": "python3"
  },
  "language_info": {
   "codemirror_mode": {
    "name": "ipython",
    "version": 3
   },
   "file_extension": ".py",
   "mimetype": "text/x-python",
   "name": "python",
   "nbconvert_exporter": "python",
   "pygments_lexer": "ipython3",
   "version": "3.12.7"
  },
  "widgets": {
   "application/vnd.jupyter.widget-state+json": {
    "state": {},
    "version_major": 2,
    "version_minor": 0
   }
  }
 },
 "nbformat": 4,
 "nbformat_minor": 5
}
